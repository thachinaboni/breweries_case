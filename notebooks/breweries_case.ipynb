{
 "cells": [
  {
   "cell_type": "code",
   "execution_count": 1,
   "id": "2b6c4ea3-70c5-4dfe-8d42-5a9297d2c6d4",
   "metadata": {
    "tags": []
   },
   "outputs": [
    {
     "name": "stderr",
     "output_type": "stream",
     "text": [
      "Setting default log level to \"WARN\".\n",
      "To adjust logging level use sc.setLogLevel(newLevel). For SparkR, use setLogLevel(newLevel).\n",
      "24/11/11 11:27:52 WARN NativeCodeLoader: Unable to load native-hadoop library for your platform... using builtin-java classes where applicable\n"
     ]
    }
   ],
   "source": [
    "import pandas as pd\n",
    "from pyspark.sql import SparkSession\n",
    "from pyspark.sql import functions as F\n",
    "from pyspark.sql import types as T\n",
    "import requests\n",
    "\n",
    "# Inicialização do Spark\n",
    "spark = SparkSession.builder.appName(\"BreweryETL\").getOrCreate()\n",
    "spark.conf.set(\"spark.sql.repl.eagerEval.enabled\", True)\n",
    "spark.conf.set(\"spark.sql.parquet.int96RebaseModeInRead\", \"LEGACY\")"
   ]
  },
  {
   "cell_type": "code",
   "execution_count": 2,
   "id": "e0d382e9-e62e-4222-a92e-ec887ce3bf26",
   "metadata": {
    "tags": []
   },
   "outputs": [],
   "source": [
    "# Configuração da URL da API\n",
    "API_URL = \"https://api.openbrewerydb.org/breweries\"\n",
    "\n",
    "def fetch_data():\n",
    "    try:\n",
    "        response = requests.get(API_URL)\n",
    "        response.raise_for_status()\n",
    "        return response.json()\n",
    "    except requests.exceptions.RequestException as e:\n",
    "        print(f\"Erro ao acessar a API: {e}\")\n",
    "        return []"
   ]
  },
  {
   "cell_type": "code",
   "execution_count": 3,
   "id": "1746c9e8-5e60-4d4e-954f-6f30b3399ac2",
   "metadata": {
    "tags": []
   },
   "outputs": [],
   "source": [
    "def round_columns(df, columns, precision):\n",
    "    \"\"\"\n",
    "    Função para arredondar colunas de um DataFrame\n",
    "    Parâmetros:\n",
    "    df: DataFrame a ser arredondado\n",
    "    columns: Lista de colunas a serem arredondadas\n",
    "    precision: int - Número de casas decimais para arredondamento\n",
    "    \"\"\"\n",
    "    for column in columns:\n",
    "        df = df.withColumn(column, F.regexp_replace(F.col(column), ',', '.'))\n",
    "        df = df.withColumn(column, F.regexp_replace(F.col(column), ' ', ''))\n",
    "        \n",
    "        df = df.withColumn(column, F.col(column).cast(\"double\"))\n",
    "        \n",
    "        df = df.withColumn(column, F.round(F.col(column), precision))\n",
    "    return df"
   ]
  },
  {
   "cell_type": "code",
   "execution_count": 4,
   "id": "4fb83149-4922-428c-bf42-b8daf0d8d87a",
   "metadata": {
    "tags": []
   },
   "outputs": [],
   "source": [
    "def fill_blank_columns(df, columns):\n",
    "    for column in columns:\n",
    "        df = df.withColumn(column, F.when(F.col(column).isNull(), F.lit(\"Unknown\")).otherwise(F.col(column)))\n",
    "    return df"
   ]
  },
  {
   "cell_type": "code",
   "execution_count": 5,
   "id": "bd36aff5-effe-406d-b3e7-9cae16aaa461",
   "metadata": {
    "tags": []
   },
   "outputs": [],
   "source": [
    "def save_bronze(data):\n",
    "    pd.DataFrame(data).to_json(\"/home/coder/notebooks/case/data/bronze/breweries_raw.json\", orient=\"records\")"
   ]
  },
  {
   "cell_type": "code",
   "execution_count": 6,
   "id": "7d15c0ad-36e8-45d0-9c84-6826dc81a94c",
   "metadata": {
    "tags": []
   },
   "outputs": [],
   "source": [
    "# Definindo o esquema explicitamente para garantir a consistência\n",
    "schema = T.StructType([\n",
    "    T.StructField(\"id\", T.StringType(), True),\n",
    "    T.StructField(\"name\", T.StringType(), True),\n",
    "    T.StructField(\"brewery_type\", T.StringType(), True),\n",
    "    T.StructField(\"street\", T.StringType(), True),\n",
    "    T.StructField(\"city\", T.StringType(), True),\n",
    "    T.StructField(\"state\", T.StringType(), True),\n",
    "    T.StructField(\"country\", T.StringType(), True),\n",
    "    T.StructField(\"longitude\", T.StringType(), True),  # Será convertido para DoubleType mais tarde\n",
    "    T.StructField(\"latitude\", T.StringType(), True)     # Será convertido para DoubleType mais tarde\n",
    "])"
   ]
  },
  {
   "cell_type": "code",
   "execution_count": 7,
   "id": "eca2c699-ef8e-41de-a620-bef1a33fe6ef",
   "metadata": {
    "tags": []
   },
   "outputs": [],
   "source": [
    "def transform_data(data):\n",
    "    df = spark.createDataFrame(data, schema=schema)\n",
    "    df = round_columns(df=df, columns=[\"longitude\", \"latitude\"], precision=2)\n",
    "    df = fill_blank_columns(df=df, columns=[\"name\",\n",
    "                                            \"brewery_type\",\n",
    "                                            \"street\",\n",
    "                                            \"city\",\n",
    "                                            \"state\",\n",
    "                                            \"country\"\n",
    "                                           ])\n",
    "    return df"
   ]
  },
  {
   "cell_type": "code",
   "execution_count": 10,
   "id": "11cd529d-4a60-41c0-a37e-d40ba458effa",
   "metadata": {
    "tags": []
   },
   "outputs": [],
   "source": [
    "def save_silver(df):\n",
    "    df.write.mode(\"overwrite\").partitionBy(\"state\").parquet(\"/home/coder/notebooks/case/data/silver/breweries_partitioned\")"
   ]
  },
  {
   "cell_type": "code",
   "execution_count": 11,
   "id": "ad6faf39-45ca-45a1-8a6d-43b940e35b51",
   "metadata": {
    "tags": []
   },
   "outputs": [
    {
     "name": "stderr",
     "output_type": "stream",
     "text": [
      "                                                                                \r"
     ]
    }
   ],
   "source": [
    "def main():\n",
    "    data = fetch_data()\n",
    "    save_bronze(data)\n",
    "    df_silver = transform_data(data)\n",
    "    save_silver(df_silver)\n",
    "\n",
    "if __name__ == \"__main__\":\n",
    "    main()"
   ]
  },
  {
   "cell_type": "code",
   "execution_count": 12,
   "id": "d42787f5-f945-4b7f-bdc4-e1ca5aaacbbf",
   "metadata": {
    "tags": []
   },
   "outputs": [],
   "source": [
    "silver_df = spark.read.format(\"parquet\").load(\n",
    "    \"/home/coder/notebooks/case/data/silver/breweries_partitioned/\")"
   ]
  },
  {
   "cell_type": "code",
   "execution_count": 13,
   "id": "a52b7870-1152-4055-aa82-86609cdd76fe",
   "metadata": {
    "tags": []
   },
   "outputs": [
    {
     "name": "stdout",
     "output_type": "stream",
     "text": [
      "root\n",
      " |-- id: string (nullable = true)\n",
      " |-- name: string (nullable = true)\n",
      " |-- brewery_type: string (nullable = true)\n",
      " |-- street: string (nullable = true)\n",
      " |-- city: string (nullable = true)\n",
      " |-- country: string (nullable = true)\n",
      " |-- longitude: double (nullable = true)\n",
      " |-- latitude: double (nullable = true)\n",
      " |-- state: string (nullable = true)\n",
      "\n"
     ]
    }
   ],
   "source": [
    "silver_df.printSchema()"
   ]
  },
  {
   "cell_type": "code",
   "execution_count": 20,
   "id": "7c6c63cd-3722-4a0f-b7aa-589e471bb6ad",
   "metadata": {
    "tags": []
   },
   "outputs": [
    {
     "data": {
      "text/html": [
       "<table border='1'>\n",
       "<tr><th>id</th><th>name</th><th>brewery_type</th><th>street</th><th>city</th><th>country</th><th>longitude</th><th>latitude</th><th>state</th></tr>\n",
       "<tr><td>6d14b220-8926-452...</td><td>10 Barrel Brewing Co</td><td>large</td><td>62970 18th St</td><td>Bend</td><td>United States</td><td>-121.28</td><td>44.09</td><td>Oregon</td></tr>\n",
       "<tr><td>e2e78bd8-80ff-4a6...</td><td>10 Barrel Brewing Co</td><td>large</td><td>1135 NW Galveston...</td><td>Bend</td><td>United States</td><td>-121.33</td><td>44.06</td><td>Oregon</td></tr>\n",
       "<tr><td>e432899b-7f58-455...</td><td>10 Barrel Brewing Co</td><td>large</td><td>1411 NW Flanders St</td><td>Portland</td><td>United States</td><td>-122.69</td><td>45.53</td><td>Oregon</td></tr>\n",
       "<tr><td>9f1852da-c312-42d...</td><td>10 Barrel Brewing...</td><td>large</td><td>62950 NE 18th St</td><td>Bend</td><td>United States</td><td>-121.28</td><td>44.09</td><td>Oregon</td></tr>\n",
       "<tr><td>58293321-14ae-49d...</td><td>1188 Brewing Co</td><td>brewpub</td><td>141 E Main St</td><td>John Day</td><td>United States</td><td>-118.92</td><td>44.41</td><td>Oregon</td></tr>\n",
       "<tr><td>936c3d7e-5d54-445...</td><td>13 Virtues Brewin...</td><td>brewpub</td><td>6410 SE Milwaukie...</td><td>Portland</td><td>United States</td><td>-122.65</td><td>45.48</td><td>Oregon</td></tr>\n",
       "<tr><td>1988eb86-f0a2-467...</td><td>10 Barrel Brewing...</td><td>large</td><td>2620 Walnut St</td><td>Denver</td><td>United States</td><td>-104.99</td><td>39.76</td><td>Colorado</td></tr>\n",
       "<tr><td>4ffda196-dd59-44a...</td><td>105 West Brewing Co</td><td>micro</td><td>1043 Park St</td><td>Castle Rock</td><td>United States</td><td>-104.87</td><td>39.38</td><td>Colorado</td></tr>\n",
       "<tr><td>06e9fffb-e820-45c...</td><td>12Degree Brewing</td><td>brewpub</td><td>820 Main St</td><td>Louisville</td><td>United States</td><td>-105.13</td><td>39.98</td><td>Colorado</td></tr>\n",
       "<tr><td>4b677b60-fef1-42e...</td><td>14er Brewing Company</td><td>proprietor</td><td>2801 Walnut St</td><td>Denver</td><td>United States</td><td>-104.98</td><td>39.76</td><td>Colorado</td></tr>\n",
       "<tr><td>ef970757-fe42-416...</td><td>10 Barrel Brewing Co</td><td>large</td><td>1501 E St</td><td>San Diego</td><td>United States</td><td>-117.13</td><td>32.71</td><td>California</td></tr>\n",
       "<tr><td>5ae467af-66dc-4d7...</td><td>101 North Brewing...</td><td>closed</td><td>1304 Scott St Ste D</td><td>Petaluma</td><td>United States</td><td>-122.67</td><td>38.27</td><td>California</td></tr>\n",
       "<tr><td>4788221a-a03b-458...</td><td>14 Cannons Brewin...</td><td>micro</td><td>31125 Via Colinas...</td><td>Westlake Village</td><td>United States</td><td>-118.8</td><td>34.15</td><td>California</td></tr>\n",
       "<tr><td>fe6b9893-b93e-43d...</td><td>1850 Brewing Company</td><td>micro</td><td>Unknown</td><td>Mariposa</td><td>United States</td><td>-119.9</td><td>37.57</td><td>California</td></tr>\n",
       "<tr><td>fb94830f-6196-4f5...</td><td>12 West Brewing C...</td><td>micro</td><td>3000 E Ray Rd Bldg 6</td><td>Gilbert</td><td>United States</td><td>NULL</td><td>NULL</td><td>Arizona</td></tr>\n",
       "<tr><td>0faa0fb2-fffa-416...</td><td>12 West Brewing C...</td><td>micro</td><td>Unknown</td><td>Mesa</td><td>United States</td><td>-111.59</td><td>33.44</td><td>Arizona</td></tr>\n",
       "<tr><td>4f4b5b34-d572-4df...</td><td>1912 Brewing</td><td>micro</td><td>2045 N Forbes Blv...</td><td>Tucson</td><td>United States</td><td>-110.99</td><td>32.25</td><td>Arizona</td></tr>\n",
       "<tr><td>7531dbd8-afc9-4b5...</td><td>10-56 Brewing Com...</td><td>micro</td><td>400 Brown Cir</td><td>Knox</td><td>United States</td><td>-86.63</td><td>41.29</td><td>Indiana</td></tr>\n",
       "<tr><td>b51f3cdf-60ff-4ae...</td><td>18th Street Brewery</td><td>micro</td><td>5725 Miller Ave</td><td>Gary</td><td>United States</td><td>-87.27</td><td>41.6</td><td>Indiana</td></tr>\n",
       "<tr><td>add7f978-942e-4d5...</td><td>18th Street Brewery</td><td>micro</td><td>5417 Oakley Ave</td><td>Hammond</td><td>United States</td><td>-87.52</td><td>41.62</td><td>Indiana</td></tr>\n",
       "</table>\n",
       "only showing top 20 rows\n"
      ],
      "text/plain": [
       "DataFrame[id: string, name: string, brewery_type: string, street: string, city: string, country: string, longitude: double, latitude: double, state: string]"
      ]
     },
     "execution_count": 20,
     "metadata": {},
     "output_type": "execute_result"
    }
   ],
   "source": [
    "silver_df"
   ]
  }
 ],
 "metadata": {
  "kernelspec": {
   "display_name": "Python 3 (ipykernel)",
   "language": "python",
   "name": "python3"
  },
  "language_info": {
   "codemirror_mode": {
    "name": "ipython",
    "version": 3
   },
   "file_extension": ".py",
   "mimetype": "text/x-python",
   "name": "python",
   "nbconvert_exporter": "python",
   "pygments_lexer": "ipython3",
   "version": "3.10.0"
  }
 },
 "nbformat": 4,
 "nbformat_minor": 5
}
